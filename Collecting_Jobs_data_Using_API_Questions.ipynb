{
  "cells": [
    {
      "cell_type": "markdown",
      "metadata": {
        "id": "view-in-github",
        "colab_type": "text"
      },
      "source": [
        "<a href=\"https://colab.research.google.com/github/sunilsunny101/IBM_DATA_ANALYST_CAPSTONE_PROJECT/blob/main/Collecting_Jobs_data_Using_API_Questions.ipynb\" target=\"_parent\"><img src=\"https://colab.research.google.com/assets/colab-badge.svg\" alt=\"Open In Colab\"/></a>"
      ]
    },
    {
      "cell_type": "markdown",
      "metadata": {
        "id": "cNtjF_Jz39zT"
      },
      "source": [
        "<p style=\"text-align:center\">\n",
        "    <a href=\"https://skills.network/?utm_medium=Exinfluencer&utm_source=Exinfluencer&utm_content=000026UJ&utm_term=10006555&utm_id=NA-SkillsNetwork-Channel-SkillsNetworkCoursesIBMDA0321ENSkillsNetwork21426264-2022-01-01\" target=\"_blank\">\n",
        "    <img src=\"https://cf-courses-data.s3.us.cloud-object-storage.appdomain.cloud/assets/logos/SN_web_lightmode.png\" width=\"200\" alt=\"Skills Network Logo\"  />\n",
        "    </a>\n",
        "</p>\n"
      ]
    },
    {
      "cell_type": "markdown",
      "metadata": {
        "id": "TLpCdUGZ39zc"
      },
      "source": [
        "# **Collecting Job Data Using APIs**\n"
      ]
    },
    {
      "cell_type": "markdown",
      "metadata": {
        "id": "QHllW_qs39zf"
      },
      "source": [
        "Estimated time needed: **45 to 60** minutes\n"
      ]
    },
    {
      "cell_type": "markdown",
      "metadata": {
        "id": "0Ku3BLs139zg"
      },
      "source": [
        "## Objectives\n"
      ]
    },
    {
      "cell_type": "markdown",
      "metadata": {
        "id": "a2eRAlEN39zh"
      },
      "source": [
        "After completing this lab, you will be able to:\n"
      ]
    },
    {
      "cell_type": "markdown",
      "metadata": {
        "id": "ssWLNKYw39zj"
      },
      "source": [
        "*   Collect job data from Jobs API\n",
        "*   Store the collected data into an excel spreadsheet.\n"
      ]
    },
    {
      "cell_type": "markdown",
      "metadata": {
        "id": "02ZR3E0q39zl"
      },
      "source": [
        "> <strong>Note: Before starting with the assignment make sure to read all the instructions and then move ahead with the coding part.</strong>\n"
      ]
    },
    {
      "cell_type": "markdown",
      "metadata": {
        "id": "1gB8A_6P39zm"
      },
      "source": [
        "#### Instructions\n"
      ]
    },
    {
      "cell_type": "markdown",
      "metadata": {
        "id": "KN_pCBQL39zn"
      },
      "source": [
        "To run the actual lab, firstly you need to click on the [Jobs_API](https://cf-courses-data.s3.us.cloud-object-storage.appdomain.cloud/IBM-DA0321EN-SkillsNetwork/labs/module%201/Accessing%20Data%20Using%20APIs/Jobs_API.ipynb) notebook link. The file contains flask code which is required to run the Jobs API data.\n",
        "\n",
        "Now, to run the code in the file that opens up follow the below steps.\n",
        "\n",
        "Step1: Download the file.\n",
        "\n",
        "Step2: Upload it on the IBM Watson studio. (If IBM Watson Cloud service does not work in your system, follow the alternate Step 2 below)\n",
        "\n",
        "Step2(alternate): Upload it in your SN labs environment using the upload button which is highlighted in red in the image below:\n",
        "Remember to upload this Jobs_API file in the same folder as your current .ipynb file\n",
        "\n",
        "<img src=\"https://cf-courses-data.s3.us.cloud-object-storage.appdomain.cloud/IBM-DA0321EN-SkillsNetwork/labs/module%201/Accessing%20Data%20Using%20APIs/Upload.PNG\" />\n",
        "\n",
        "Step3:  Run all the cells of the Jobs_API file. (Even if you receive an asterik sign after running the last cell, the code works fine.)\n",
        "\n",
        "If you want to learn more about flask, which is optional, you can click on this link [here](https://cf-courses-data.s3.us.cloud-object-storage.appdomain.cloud/IBM-DA0321EN-SkillsNetwork/labs/module%201/Accessing%20Data%20Using%20APIs/FLASK_API.md.html).\n",
        "\n",
        "Once you run the flask code, you can start with your assignment.\n"
      ]
    },
    {
      "cell_type": "markdown",
      "metadata": {
        "id": "XW4Ljwxr39zq"
      },
      "source": [
        "## Dataset Used in this Assignment\n",
        "\n",
        "The dataset used in this lab comes from the following source: [https://www.kaggle.com/promptcloud/jobs-on-naukricom](https://www.kaggle.com/promptcloud/jobs-on-naukricom?utm_medium=Exinfluencer&utm_source=Exinfluencer&utm_content=000026UJ&utm_term=10006555&utm_id=NA-SkillsNetwork-Channel-SkillsNetworkCoursesIBMDA0321ENSkillsNetwork21426264-2022-01-01) under the under a **Public Domain license**.\n",
        "\n",
        "> Note: We are using a modified subset of that dataset for the lab, so to follow the lab instructions successfully please use the dataset provided with the lab, rather than the dataset from the original source.\n",
        "\n",
        "The original dataset is a csv. We have converted the csv to json as per the requirement of the lab.\n"
      ]
    },
    {
      "cell_type": "markdown",
      "metadata": {
        "id": "_vSc-rIA39zs"
      },
      "source": [
        "## Warm-Up Exercise\n"
      ]
    },
    {
      "cell_type": "markdown",
      "metadata": {
        "id": "cRn_13Dv39zs"
      },
      "source": [
        "Before you attempt the actual lab, here is a fully solved warmup exercise that will help you to learn how to access an API.\n"
      ]
    },
    {
      "cell_type": "markdown",
      "metadata": {
        "id": "ujz-9d6C39zt"
      },
      "source": [
        "Using an API, let us find out who currently are on the International Space Station (ISS).<br> The API at [http://api.open-notify.org/astros.json](http://api.open-notify.org/astros.json?utm_medium=Exinfluencer&utm_source=Exinfluencer&utm_content=000026UJ&utm_term=10006555&utm_id=NA-SkillsNetwork-Channel-SkillsNetworkCoursesIBMDA0321ENSkillsNetwork21426264-2021-01-01&cm_mmc=Email_Newsletter-\\_-Developer_Ed%2BTech-\\_-WW_WW-\\_-SkillsNetwork-Courses-IBM-DA0321EN-SkillsNetwork-21426264&cm_mmca1=000026UJ&cm_mmca2=10006555&cm_mmca3=M12345678&cvosrc=email.Newsletter.M12345678&cvo_campaign=000026UJ) gives us the information of astronauts currently on ISS in json format.<br>\n",
        "You can read more about this API at [http://open-notify.org/Open-Notify-API/People-In-Space/](http://open-notify.org/Open-Notify-API/People-In-Space?utm_medium=Exinfluencer&utm_source=Exinfluencer&utm_content=000026UJ&utm_term=10006555&utm_id=NA-SkillsNetwork-Channel-SkillsNetworkCoursesIBMDA0321ENSkillsNetwork21426264-2021-01-01&cm_mmc=Email_Newsletter-\\_-Developer_Ed%2BTech-\\_-WW_WW-\\_-SkillsNetwork-Courses-IBM-DA0321EN-SkillsNetwork-21426264&cm_mmca1=000026UJ&cm_mmca2=10006555&cm_mmca3=M12345678&cvosrc=email.Newsletter.M12345678&cvo_campaign=000026UJ)\n"
      ]
    },
    {
      "cell_type": "code",
      "execution_count": null,
      "metadata": {
        "id": "o9Dt_lrO39zv",
        "outputId": "5a5b4476-ff89-4246-801f-8ec987479448"
      },
      "outputs": [
        {
          "name": "stdout",
          "output_type": "stream",
          "text": [
            "Requirement already satisfied: flask in /home/jupyterlab/conda/envs/python/lib/python3.7/site-packages (2.2.2)\n",
            "Requirement already satisfied: importlib-metadata>=3.6.0 in /home/jupyterlab/conda/envs/python/lib/python3.7/site-packages (from flask) (4.11.4)\n",
            "Requirement already satisfied: Jinja2>=3.0 in /home/jupyterlab/conda/envs/python/lib/python3.7/site-packages (from flask) (3.1.2)\n",
            "Requirement already satisfied: Werkzeug>=2.2.2 in /home/jupyterlab/conda/envs/python/lib/python3.7/site-packages (from flask) (2.2.2)\n",
            "Requirement already satisfied: click>=8.0 in /home/jupyterlab/conda/envs/python/lib/python3.7/site-packages (from flask) (8.1.3)\n",
            "Requirement already satisfied: itsdangerous>=2.0 in /home/jupyterlab/conda/envs/python/lib/python3.7/site-packages (from flask) (2.1.2)\n",
            "Requirement already satisfied: typing-extensions>=3.6.4 in /home/jupyterlab/conda/envs/python/lib/python3.7/site-packages (from importlib-metadata>=3.6.0->flask) (4.3.0)\n",
            "Requirement already satisfied: zipp>=0.5 in /home/jupyterlab/conda/envs/python/lib/python3.7/site-packages (from importlib-metadata>=3.6.0->flask) (3.8.1)\n",
            "Requirement already satisfied: MarkupSafe>=2.0 in /home/jupyterlab/conda/envs/python/lib/python3.7/site-packages (from Jinja2>=3.0->flask) (2.1.1)\n"
          ]
        }
      ],
      "source": [
        "!pip install flask"
      ]
    },
    {
      "cell_type": "code",
      "execution_count": null,
      "metadata": {
        "id": "JhszUO0u39z0",
        "outputId": "e36b318e-cf2f-47f6-bd00-56da2fe5e8d8"
      },
      "outputs": [
        {
          "name": "stdout",
          "output_type": "stream",
          "text": [
            "--2022-09-18 04:07:15--  https://cf-courses-data.s3.us.cloud-object-storage.appdomain.cloud/IBM-DA0321EN-SkillsNetwork/labs/module%201/Accessing%20Data%20Using%20APIs/jobs.json\n",
            "Resolving cf-courses-data.s3.us.cloud-object-storage.appdomain.cloud (cf-courses-data.s3.us.cloud-object-storage.appdomain.cloud)... 169.63.118.104\n",
            "Connecting to cf-courses-data.s3.us.cloud-object-storage.appdomain.cloud (cf-courses-data.s3.us.cloud-object-storage.appdomain.cloud)|169.63.118.104|:443... connected.\n",
            "HTTP request sent, awaiting response... 200 OK\n",
            "Length: 12878382 (12M) [application/json]\n",
            "Saving to: ‘jobs.json.1’\n",
            "\n",
            "jobs.json.1         100%[===================>]  12.28M  26.4MB/s    in 0.5s    \n",
            "\n",
            "2022-09-18 04:07:16 (26.4 MB/s) - ‘jobs.json.1’ saved [12878382/12878382]\n",
            "\n"
          ]
        }
      ],
      "source": [
        "!wget  https://cf-courses-data.s3.us.cloud-object-storage.appdomain.cloud/IBM-DA0321EN-SkillsNetwork/labs/module%201/Accessing%20Data%20Using%20APIs/jobs.json"
      ]
    },
    {
      "cell_type": "code",
      "execution_count": null,
      "metadata": {
        "id": "Twy7gf2g39z1"
      },
      "outputs": [],
      "source": [
        "import requests # you need this module to make an API call\n",
        "import pandas as pd"
      ]
    },
    {
      "cell_type": "code",
      "execution_count": null,
      "metadata": {
        "id": "Qb5-HJkv39z2"
      },
      "outputs": [],
      "source": [
        "api_url = \"http://api.open-notify.org/astros.json\" # this url gives use the astronaut data"
      ]
    },
    {
      "cell_type": "code",
      "execution_count": null,
      "metadata": {
        "id": "t8jOjGL039z3"
      },
      "outputs": [],
      "source": [
        "response = requests.get(api_url) # Call the API using the get method and store the\n",
        "                                # output of the API call in a variable called response."
      ]
    },
    {
      "cell_type": "code",
      "execution_count": null,
      "metadata": {
        "id": "JAabdjtQ39z4"
      },
      "outputs": [],
      "source": [
        "if response.ok:             # if all is well() no errors, no network timeouts)\n",
        "    data = response.json()  # store the result in json format in a variable called data\n",
        "                            # the variable data is of type dictionary."
      ]
    },
    {
      "cell_type": "code",
      "execution_count": null,
      "metadata": {
        "id": "J0OOTCA439z5"
      },
      "outputs": [],
      "source": []
    },
    {
      "cell_type": "code",
      "execution_count": null,
      "metadata": {
        "id": "vPzvLdio39z5",
        "outputId": "e8ea1247-2666-4ac2-a427-f909f260b722"
      },
      "outputs": [
        {
          "name": "stdout",
          "output_type": "stream",
          "text": [
            "{'number': 10, 'people': [{'name': 'Oleg Artemyev', 'craft': 'ISS'}, {'name': 'Denis Matveev', 'craft': 'ISS'}, {'name': 'Sergey Korsakov', 'craft': 'ISS'}, {'name': 'Kjell Lindgren', 'craft': 'ISS'}, {'name': 'Bob Hines', 'craft': 'ISS'}, {'name': 'Samantha Cristoforetti', 'craft': 'ISS'}, {'name': 'Jessica Watkins', 'craft': 'ISS'}, {'name': 'Cai Xuzhe', 'craft': 'Tiangong'}, {'name': 'Chen Dong', 'craft': 'Tiangong'}, {'name': 'Liu Yang', 'craft': 'Tiangong'}], 'message': 'success'}\n"
          ]
        }
      ],
      "source": [
        "print(data)   # print the data just to check the output or for debugging"
      ]
    },
    {
      "cell_type": "markdown",
      "metadata": {
        "id": "RxUfVKil39z6"
      },
      "source": [
        "Print the number of astronauts currently on ISS.\n"
      ]
    },
    {
      "cell_type": "code",
      "execution_count": null,
      "metadata": {
        "id": "wm6JW2ed39z7",
        "outputId": "64214952-de52-452c-f61e-86cdb39f6cdc"
      },
      "outputs": [
        {
          "name": "stdout",
          "output_type": "stream",
          "text": [
            "10\n"
          ]
        }
      ],
      "source": [
        "print(data.get('number'))"
      ]
    },
    {
      "cell_type": "markdown",
      "metadata": {
        "id": "a0tiQYgr39z8"
      },
      "source": [
        "Print the names of the astronauts currently on ISS.\n"
      ]
    },
    {
      "cell_type": "code",
      "execution_count": null,
      "metadata": {
        "id": "gHg0dOsX39z9",
        "outputId": "0ccf5a44-8a1e-412c-f9f8-86bd0b3c42eb"
      },
      "outputs": [
        {
          "name": "stdout",
          "output_type": "stream",
          "text": [
            "There are 10 astronauts on ISS\n",
            "And their names are :\n",
            "Oleg Artemyev\n",
            "Denis Matveev\n",
            "Sergey Korsakov\n",
            "Kjell Lindgren\n",
            "Bob Hines\n",
            "Samantha Cristoforetti\n",
            "Jessica Watkins\n",
            "Cai Xuzhe\n",
            "Chen Dong\n",
            "Liu Yang\n"
          ]
        }
      ],
      "source": [
        "astronauts = data.get('people')\n",
        "print(\"There are {} astronauts on ISS\".format(len(astronauts)))\n",
        "print(\"And their names are :\")\n",
        "for astronaut in astronauts:\n",
        "    print(astronaut.get('name'))"
      ]
    },
    {
      "cell_type": "markdown",
      "metadata": {
        "id": "jhWo0Xii39z-"
      },
      "source": [
        "Hope the warmup was helpful. Good luck with your next lab!\n"
      ]
    },
    {
      "cell_type": "markdown",
      "metadata": {
        "id": "u_vc1jZW39z_"
      },
      "source": [
        "## Lab: Collect Jobs Data using Jobs API\n"
      ]
    },
    {
      "cell_type": "markdown",
      "metadata": {
        "id": "pikvzvWi39z_"
      },
      "source": [
        "Collect the number of job postings for the following locations using the API:\n",
        "\n",
        "*   Los Angeles\n",
        "*   New York\n",
        "*   San Francisco\n",
        "*   Washington DC\n",
        "*   Seattle\n",
        "*   Austin\n",
        "*   Detroit\n"
      ]
    },
    {
      "cell_type": "code",
      "execution_count": null,
      "metadata": {
        "id": "D80AkuRr390A"
      },
      "outputs": [],
      "source": [
        "#Import required libraries\n",
        "import pandas as pd\n",
        "import json"
      ]
    },
    {
      "cell_type": "markdown",
      "metadata": {
        "id": "LKVtUfwV390B"
      },
      "source": [
        "#### Write a function to get the number of jobs for the Python technology.<br>\n",
        "\n",
        "> Note: While using the lab you need to pass the **payload** information for the **params** attribute in the form of **key** **value** pairs.\n",
        "\n",
        "Refer the ungraded **rest api lab** in the course **Python for Data Science, AI & Development**  <a href=\"https://www.coursera.org/learn/python-for-applied-data-science-ai/ungradedLti/P6sW8/hands-on-lab-access-rest-apis-request-http?utm_medium=Exinfluencer&utm_source=Exinfluencer&utm_content=000026UJ&utm_term=10006555&utm_id=NA-SkillsNetwork-Channel-SkillsNetworkCoursesIBMDA0321ENSkillsNetwork21426264-2022-01-01\">link</a>\n",
        "\n",
        "##### The keys in the json are\n",
        "\n",
        "*   Job Title\n",
        "\n",
        "*   Job Experience Required\n",
        "\n",
        "*   Key Skills\n",
        "\n",
        "*   Role Category\n",
        "\n",
        "*   Location\n",
        "\n",
        "*   Functional Area\n",
        "\n",
        "*   Industry\n",
        "\n",
        "*   Role\n",
        "\n",
        "You can also view  the json file contents  from the following <a href = \"https://cf-courses-data.s3.us.cloud-object-storage.appdomain.cloud/IBM-DA0321EN-SkillsNetwork/labs/module%201/Accessing%20Data%20Using%20APIs/jobs.json?utm_medium=Exinfluencer&utm_source=Exinfluencer&utm_content=000026UJ&utm_term=10006555&utm_id=NA-SkillsNetwork-Channel-SkillsNetworkCoursesIBMDA0321ENSkillsNetwork21426264-2022-01-01\">json</a> URL.\n"
      ]
    },
    {
      "cell_type": "code",
      "execution_count": null,
      "metadata": {
        "id": "o-609ggl390E"
      },
      "outputs": [],
      "source": [
        "api_url=\"http://127.0.0.1:5000/data\"\n",
        "def get_number_of_jobs_T(technology):\n",
        "    payload={\"Key Skills\": technology}\n",
        "    response=requests.get(api_url, params=payload)\n",
        "    if response.ok:\n",
        "        data=response.json()\n",
        "#         print(data)\n",
        "        number_of_jobs = len(data)\n",
        "    \n",
        "    return technology,number_of_jobs\n",
        "   "
      ]
    },
    {
      "cell_type": "markdown",
      "metadata": {
        "id": "koXeZT5o390F"
      },
      "source": [
        "Calling the function for Python and checking if it works.\n"
      ]
    },
    {
      "cell_type": "code",
      "execution_count": null,
      "metadata": {
        "id": "OnamYEt7390G",
        "outputId": "c210687a-fb8c-461c-c4d2-c8574183e9d7"
      },
      "outputs": [
        {
          "data": {
            "text/plain": [
              "('Python', 1173)"
            ]
          },
          "execution_count": 49,
          "metadata": {},
          "output_type": "execute_result"
        }
      ],
      "source": [
        "get_number_of_jobs_T(\"Python\")"
      ]
    },
    {
      "cell_type": "markdown",
      "metadata": {
        "id": "CRkPG8ty390G"
      },
      "source": [
        "#### Write a function to find number of jobs in US for a location of your choice\n"
      ]
    },
    {
      "cell_type": "code",
      "execution_count": null,
      "metadata": {
        "id": "FGsb1Moh390H"
      },
      "outputs": [],
      "source": [
        "def get_number_of_jobs_L(Location):\n",
        "    payload={\"Location\": Location}\n",
        "    response=requests.get(api_url, params=payload)\n",
        "    if response.ok:\n",
        "        data=response.json()\n",
        "#         print(data)\n",
        "        number_of_jobs = len(data)\n",
        "    \n",
        "    #your coe goes here\n",
        "    return Location,number_of_jobs"
      ]
    },
    {
      "cell_type": "markdown",
      "metadata": {
        "id": "-wcn4eSY390I"
      },
      "source": [
        "Call the function for Los Angeles and check if it is working.\n"
      ]
    },
    {
      "cell_type": "code",
      "execution_count": null,
      "metadata": {
        "id": "4DsOipSA390J",
        "outputId": "e008c78b-f924-4768-c1de-dd1ea971ab7b"
      },
      "outputs": [
        {
          "data": {
            "text/plain": [
              "('Los Angeles', 640)"
            ]
          },
          "execution_count": 57,
          "metadata": {},
          "output_type": "execute_result"
        }
      ],
      "source": [
        "#your code goes here\n",
        "get_number_of_jobs_L(\"Los Angeles\")"
      ]
    },
    {
      "cell_type": "code",
      "execution_count": null,
      "metadata": {
        "id": "XrWBJOr-390K",
        "outputId": "9d6b77ff-b0f4-41cf-d28f-6d0971edf403"
      },
      "outputs": [
        {
          "data": {
            "text/plain": [
              "('New York', 3226)"
            ]
          },
          "execution_count": 58,
          "metadata": {},
          "output_type": "execute_result"
        }
      ],
      "source": [
        "get_number_of_jobs_L(\"New York\")"
      ]
    },
    {
      "cell_type": "code",
      "execution_count": null,
      "metadata": {
        "id": "NozpPA3U390L",
        "outputId": "ca4bac53-c94c-4d1f-c949-69c1faac6d26"
      },
      "outputs": [
        {
          "data": {
            "text/plain": [
              "('San Francisco', 435)"
            ]
          },
          "execution_count": 59,
          "metadata": {},
          "output_type": "execute_result"
        }
      ],
      "source": [
        "get_number_of_jobs_L(\"San Francisco\")"
      ]
    },
    {
      "cell_type": "code",
      "execution_count": null,
      "metadata": {
        "id": "NyV9NxiS390M",
        "outputId": "fe18bc7a-2508-418d-a1cb-65cd12ee092c"
      },
      "outputs": [
        {
          "data": {
            "text/plain": [
              "('Washington DC', 5316)"
            ]
          },
          "execution_count": 60,
          "metadata": {},
          "output_type": "execute_result"
        }
      ],
      "source": [
        "get_number_of_jobs_L(\"Washington DC\")"
      ]
    },
    {
      "cell_type": "code",
      "execution_count": null,
      "metadata": {
        "id": "mtAJc_Ma390N",
        "outputId": "806e642a-4e90-4b17-b3f9-573e49bfcddd"
      },
      "outputs": [
        {
          "data": {
            "text/plain": [
              "('Detroit', 3945)"
            ]
          },
          "execution_count": 63,
          "metadata": {},
          "output_type": "execute_result"
        }
      ],
      "source": [
        "get_number_of_jobs_L(\"Detroit\")"
      ]
    },
    {
      "cell_type": "code",
      "execution_count": null,
      "metadata": {
        "id": "hZN0L0p3390O",
        "outputId": "d49779c3-511d-4eb6-aa57-c83b301ed313"
      },
      "outputs": [
        {
          "data": {
            "text/plain": [
              "('Austin', 434)"
            ]
          },
          "execution_count": 64,
          "metadata": {},
          "output_type": "execute_result"
        }
      ],
      "source": [
        "get_number_of_jobs_L(\"Austin\")"
      ]
    },
    {
      "cell_type": "code",
      "execution_count": null,
      "metadata": {
        "id": "s7nEtBmd390P",
        "outputId": "d38ea98f-1517-4788-ddac-aa486905b39d"
      },
      "outputs": [
        {
          "data": {
            "text/plain": [
              "('Seattle', 3375)"
            ]
          },
          "execution_count": 65,
          "metadata": {},
          "output_type": "execute_result"
        }
      ],
      "source": [
        "get_number_of_jobs_L(\"Seattle\")"
      ]
    },
    {
      "cell_type": "markdown",
      "metadata": {
        "id": "wNG3bRKF390Q"
      },
      "source": [
        "### Store the results in an excel file\n"
      ]
    },
    {
      "cell_type": "markdown",
      "metadata": {
        "id": "qjzEJqOY390Q"
      },
      "source": [
        "Call the API for all the given technologies above and write the results in an excel spreadsheet.\n"
      ]
    },
    {
      "cell_type": "markdown",
      "metadata": {
        "id": "hLmWEGW7390R"
      },
      "source": [
        "If you do not know how create excel file using python, double click here for **hints**.\n",
        "\n",
        "<!--\n",
        "\n",
        "from openpyxl import Workbook        # import Workbook class from module openpyxl\n",
        "wb=Workbook()                        # create a workbook object\n",
        "ws=wb.active                         # use the active worksheet\n",
        "ws.append(['Country','Continent'])   # add a row with two columns 'Country' and 'Continent'\n",
        "ws.append(['Eygpt','Africa'])        # add a row with two columns 'Egypt' and 'Africa'\n",
        "ws.append(['India','Asia'])          # add another row\n",
        "ws.append(['France','Europe'])       # add another row\n",
        "wb.save(\"countries.xlsx\")            # save the workbook into a file called countries.xlsx\n",
        "\n",
        "\n",
        "-->\n"
      ]
    },
    {
      "cell_type": "markdown",
      "metadata": {
        "id": "aamDuKxu390S"
      },
      "source": [
        "Create a python list of all locations for which you need to find the number of jobs postings.\n"
      ]
    },
    {
      "cell_type": "code",
      "execution_count": null,
      "metadata": {
        "id": "8c55sSo3390T",
        "outputId": "2ae59175-7987-4665-9566-34faadccb68d"
      },
      "outputs": [
        {
          "data": {
            "text/plain": [
              "['Los Angeles',\n",
              " 'New York',\n",
              " 'San Francisco',\n",
              " 'Washington DC',\n",
              " 'Seattle',\n",
              " 'Austin',\n",
              " 'Detroit']"
            ]
          },
          "execution_count": 75,
          "metadata": {},
          "output_type": "execute_result"
        }
      ],
      "source": [
        "loc_list = [\"Los Angeles\", 'New York','San Francisco','Washington DC','Seattle','Austin','Detroit']\n",
        "loc_list"
      ]
    },
    {
      "cell_type": "code",
      "execution_count": null,
      "metadata": {
        "id": "YzZYF3AD390U"
      },
      "outputs": [],
      "source": []
    },
    {
      "cell_type": "code",
      "execution_count": null,
      "metadata": {
        "id": "1SABsOOc390U"
      },
      "outputs": [],
      "source": [
        "from openpyxl import Workbook"
      ]
    },
    {
      "cell_type": "code",
      "execution_count": null,
      "metadata": {
        "id": "2_wvYP6z390V"
      },
      "outputs": [],
      "source": [
        "wb=Workbook()                       \n",
        "ws=wb.active  "
      ]
    },
    {
      "cell_type": "code",
      "execution_count": null,
      "metadata": {
        "id": "iq_C5YuO390V"
      },
      "outputs": [],
      "source": [
        "ws.append(['Location','Number_of_Jobs'])\n",
        "\n",
        "for i in loc_list:\n",
        "    ws.append(get_number_of_jobs_L(i))"
      ]
    },
    {
      "cell_type": "code",
      "execution_count": null,
      "metadata": {
        "id": "i6-fDugJ390W"
      },
      "outputs": [],
      "source": [
        "wb.save(\"github-job-postings-location.xlsx\")"
      ]
    },
    {
      "cell_type": "code",
      "execution_count": null,
      "metadata": {
        "id": "eN5hwWFl390X",
        "outputId": "348eb673-b750-4e0c-e535-005e7f6c9c11"
      },
      "outputs": [
        {
          "data": {
            "text/html": [
              "<div>\n",
              "<style scoped>\n",
              "    .dataframe tbody tr th:only-of-type {\n",
              "        vertical-align: middle;\n",
              "    }\n",
              "\n",
              "    .dataframe tbody tr th {\n",
              "        vertical-align: top;\n",
              "    }\n",
              "\n",
              "    .dataframe thead th {\n",
              "        text-align: right;\n",
              "    }\n",
              "</style>\n",
              "<table border=\"1\" class=\"dataframe\">\n",
              "  <thead>\n",
              "    <tr style=\"text-align: right;\">\n",
              "      <th></th>\n",
              "      <th>Location</th>\n",
              "      <th>Number_of_Jobs</th>\n",
              "    </tr>\n",
              "  </thead>\n",
              "  <tbody>\n",
              "    <tr>\n",
              "      <th>0</th>\n",
              "      <td>Los Angeles</td>\n",
              "      <td>640</td>\n",
              "    </tr>\n",
              "    <tr>\n",
              "      <th>1</th>\n",
              "      <td>New York</td>\n",
              "      <td>3226</td>\n",
              "    </tr>\n",
              "    <tr>\n",
              "      <th>2</th>\n",
              "      <td>San Francisco</td>\n",
              "      <td>435</td>\n",
              "    </tr>\n",
              "    <tr>\n",
              "      <th>3</th>\n",
              "      <td>Washington DC</td>\n",
              "      <td>5316</td>\n",
              "    </tr>\n",
              "    <tr>\n",
              "      <th>4</th>\n",
              "      <td>Seattle</td>\n",
              "      <td>3375</td>\n",
              "    </tr>\n",
              "    <tr>\n",
              "      <th>5</th>\n",
              "      <td>Austin</td>\n",
              "      <td>434</td>\n",
              "    </tr>\n",
              "    <tr>\n",
              "      <th>6</th>\n",
              "      <td>Detroit</td>\n",
              "      <td>3945</td>\n",
              "    </tr>\n",
              "  </tbody>\n",
              "</table>\n",
              "</div>"
            ],
            "text/plain": [
              "        Location  Number_of_Jobs\n",
              "0    Los Angeles             640\n",
              "1       New York            3226\n",
              "2  San Francisco             435\n",
              "3  Washington DC            5316\n",
              "4        Seattle            3375\n",
              "5         Austin             434\n",
              "6        Detroit            3945"
            ]
          },
          "execution_count": 80,
          "metadata": {},
          "output_type": "execute_result"
        }
      ],
      "source": [
        "job_data = pd.read_excel(\"github-job-postings-location.xlsx\")\n",
        "job_data"
      ]
    },
    {
      "cell_type": "code",
      "execution_count": null,
      "metadata": {
        "id": "sWBerJwt390Y"
      },
      "outputs": [],
      "source": []
    },
    {
      "cell_type": "markdown",
      "metadata": {
        "id": "66PPaJQE390Z"
      },
      "source": [
        "Job openings for various technologies"
      ]
    },
    {
      "cell_type": "code",
      "execution_count": null,
      "metadata": {
        "id": "jQCVv8MA390Z",
        "outputId": "2a63b8c5-3cce-4176-a885-a4a45bffe8c6"
      },
      "outputs": [
        {
          "data": {
            "text/plain": [
              "['C',\n",
              " 'C#',\n",
              " 'C++',\n",
              " 'Java',\n",
              " 'JavaScript',\n",
              " 'Python',\n",
              " 'Scala',\n",
              " 'Oracle',\n",
              " 'SQL Server',\n",
              " 'MySQL Server',\n",
              " 'PostgreSQL',\n",
              " 'MongoDB']"
            ]
          },
          "execution_count": 66,
          "metadata": {},
          "output_type": "execute_result"
        }
      ],
      "source": [
        "#your code goes here\n",
        "tech_list=['C','C#','C++','Java','JavaScript','Python','Scala','Oracle','SQL Server','MySQL Server','PostgreSQL','MongoDB']\n",
        "tech_list"
      ]
    },
    {
      "cell_type": "markdown",
      "metadata": {
        "id": "64-98z5e390a"
      },
      "source": [
        "Import libraries required to create excel spreadsheet\n"
      ]
    },
    {
      "cell_type": "code",
      "execution_count": null,
      "metadata": {
        "id": "c59ZTrOJ390b",
        "outputId": "97029b8a-3299-4dea-caf1-ab2082a8d1c8"
      },
      "outputs": [
        {
          "name": "stdout",
          "output_type": "stream",
          "text": [
            "Collecting openpyxl\n",
            "  Downloading openpyxl-3.0.10-py2.py3-none-any.whl (242 kB)\n",
            "\u001b[2K     \u001b[90m━━━━━━━━━━━━━━━━━━━━━━━━━━━━━━━━━━━━━━\u001b[0m \u001b[32m242.1/242.1 kB\u001b[0m \u001b[31m18.7 MB/s\u001b[0m eta \u001b[36m0:00:00\u001b[0m\n",
            "\u001b[?25hCollecting et-xmlfile\n",
            "  Downloading et_xmlfile-1.1.0-py3-none-any.whl (4.7 kB)\n",
            "Installing collected packages: et-xmlfile, openpyxl\n",
            "Successfully installed et-xmlfile-1.1.0 openpyxl-3.0.10\n"
          ]
        }
      ],
      "source": [
        "# your code goes here\n",
        "!pip install openpyxl"
      ]
    },
    {
      "cell_type": "markdown",
      "metadata": {
        "id": "-DilCGIW390c"
      },
      "source": [
        "Create a workbook and select the active worksheet\n"
      ]
    },
    {
      "cell_type": "code",
      "execution_count": null,
      "metadata": {
        "id": "qK60EI8h390d"
      },
      "outputs": [],
      "source": [
        "# your code goes here\n",
        "from openpyxl import Workbook"
      ]
    },
    {
      "cell_type": "markdown",
      "metadata": {
        "id": "FcU_4v9S390d"
      },
      "source": [
        "Find the number of jobs postings for each of the location in the above list.\n",
        "Write the Location name and the number of jobs postings into the excel spreadsheet.\n"
      ]
    },
    {
      "cell_type": "code",
      "execution_count": null,
      "metadata": {
        "id": "lE_ISz6f390e"
      },
      "outputs": [],
      "source": [
        "#your code goes here\n",
        "wb=Workbook()                       \n",
        "ws=wb.active  "
      ]
    },
    {
      "cell_type": "markdown",
      "metadata": {
        "id": "liq7fipf390f"
      },
      "source": [
        "Save into an excel spreadsheet named 'job-postings.xlsx'.\n"
      ]
    },
    {
      "cell_type": "code",
      "execution_count": null,
      "metadata": {
        "id": "lhCP1e3B390g"
      },
      "outputs": [],
      "source": [
        "#your code goes here\n",
        "ws.append(['Technology','Number_of_Jobs'])\n",
        "\n",
        "for i in tech_list:\n",
        "    ws.append(get_number_of_jobs_T(i))"
      ]
    },
    {
      "cell_type": "code",
      "execution_count": null,
      "metadata": {
        "id": "f77FWhFW390h"
      },
      "outputs": [],
      "source": [
        "wb.save(\"github-job-postings.xlsx\")"
      ]
    },
    {
      "cell_type": "code",
      "execution_count": null,
      "metadata": {
        "id": "FahgTpW-390j",
        "outputId": "283acf32-e26b-4f73-f9f3-0aac779dc7aa"
      },
      "outputs": [
        {
          "data": {
            "text/html": [
              "<div>\n",
              "<style scoped>\n",
              "    .dataframe tbody tr th:only-of-type {\n",
              "        vertical-align: middle;\n",
              "    }\n",
              "\n",
              "    .dataframe tbody tr th {\n",
              "        vertical-align: top;\n",
              "    }\n",
              "\n",
              "    .dataframe thead th {\n",
              "        text-align: right;\n",
              "    }\n",
              "</style>\n",
              "<table border=\"1\" class=\"dataframe\">\n",
              "  <thead>\n",
              "    <tr style=\"text-align: right;\">\n",
              "      <th></th>\n",
              "      <th>Technology</th>\n",
              "      <th>Number_of_Jobs</th>\n",
              "    </tr>\n",
              "  </thead>\n",
              "  <tbody>\n",
              "    <tr>\n",
              "      <th>0</th>\n",
              "      <td>Technology</td>\n",
              "      <td>Number_of_Jobs</td>\n",
              "    </tr>\n",
              "    <tr>\n",
              "      <th>1</th>\n",
              "      <td>C</td>\n",
              "      <td>13498</td>\n",
              "    </tr>\n",
              "    <tr>\n",
              "      <th>2</th>\n",
              "      <td>C#</td>\n",
              "      <td>333</td>\n",
              "    </tr>\n",
              "    <tr>\n",
              "      <th>3</th>\n",
              "      <td>C++</td>\n",
              "      <td>305</td>\n",
              "    </tr>\n",
              "    <tr>\n",
              "      <th>4</th>\n",
              "      <td>Java</td>\n",
              "      <td>2609</td>\n",
              "    </tr>\n",
              "    <tr>\n",
              "      <th>5</th>\n",
              "      <td>JavaScript</td>\n",
              "      <td>355</td>\n",
              "    </tr>\n",
              "    <tr>\n",
              "      <th>6</th>\n",
              "      <td>Python</td>\n",
              "      <td>1173</td>\n",
              "    </tr>\n",
              "    <tr>\n",
              "      <th>7</th>\n",
              "      <td>Scala</td>\n",
              "      <td>33</td>\n",
              "    </tr>\n",
              "    <tr>\n",
              "      <th>8</th>\n",
              "      <td>Oracle</td>\n",
              "      <td>784</td>\n",
              "    </tr>\n",
              "    <tr>\n",
              "      <th>9</th>\n",
              "      <td>SQL Server</td>\n",
              "      <td>250</td>\n",
              "    </tr>\n",
              "    <tr>\n",
              "      <th>10</th>\n",
              "      <td>MySQL Server</td>\n",
              "      <td>0</td>\n",
              "    </tr>\n",
              "    <tr>\n",
              "      <th>11</th>\n",
              "      <td>PostgreSQL</td>\n",
              "      <td>10</td>\n",
              "    </tr>\n",
              "    <tr>\n",
              "      <th>12</th>\n",
              "      <td>MongoDB</td>\n",
              "      <td>174</td>\n",
              "    </tr>\n",
              "  </tbody>\n",
              "</table>\n",
              "</div>"
            ],
            "text/plain": [
              "      Technology  Number_of_Jobs\n",
              "0     Technology  Number_of_Jobs\n",
              "1              C           13498\n",
              "2             C#             333\n",
              "3            C++             305\n",
              "4           Java            2609\n",
              "5     JavaScript             355\n",
              "6         Python            1173\n",
              "7          Scala              33\n",
              "8         Oracle             784\n",
              "9     SQL Server             250\n",
              "10  MySQL Server               0\n",
              "11    PostgreSQL              10\n",
              "12       MongoDB             174"
            ]
          },
          "execution_count": 73,
          "metadata": {},
          "output_type": "execute_result"
        }
      ],
      "source": [
        "job_data = pd.read_excel(\"github-job-postings.xlsx\")\n",
        "job_data"
      ]
    },
    {
      "cell_type": "markdown",
      "metadata": {
        "id": "_BN7_vlb390j"
      },
      "source": [
        "Collect the number of job postings for the following languages using the API:\n",
        "\n",
        "*   C\n",
        "*   C#\n",
        "*   C++\n",
        "*   Java\n",
        "*   JavaScript\n",
        "*   Python\n",
        "*   Scala\n",
        "*   Oracle\n",
        "*   SQL Server\n",
        "*   MySQL Server\n",
        "*   PostgreSQL\n",
        "*   MongoDB\n"
      ]
    },
    {
      "cell_type": "code",
      "execution_count": null,
      "metadata": {
        "id": "O9Vd1z3e390k"
      },
      "outputs": [],
      "source": [
        "# your code goes here\n"
      ]
    },
    {
      "cell_type": "markdown",
      "metadata": {
        "id": "pRyl896e390l"
      },
      "source": [
        "## Author\n"
      ]
    },
    {
      "cell_type": "markdown",
      "metadata": {
        "id": "OqPZReVH390m"
      },
      "source": [
        "Ayushi Jain\n"
      ]
    },
    {
      "cell_type": "markdown",
      "metadata": {
        "id": "1Pw_-Vgm390m"
      },
      "source": [
        "### Other Contributors\n"
      ]
    },
    {
      "cell_type": "markdown",
      "metadata": {
        "id": "GZ5zzZe9390n"
      },
      "source": [
        "Rav Ahuja\n",
        "\n",
        "Lakshmi Holla\n",
        "\n",
        "Malika\n"
      ]
    },
    {
      "cell_type": "markdown",
      "metadata": {
        "id": "839M3Bue390o"
      },
      "source": [
        "## Change Log\n"
      ]
    },
    {
      "cell_type": "markdown",
      "metadata": {
        "id": "Gar6T7KO390o"
      },
      "source": [
        "| Date (YYYY-MM-DD) | Version | Changed By        | Change Description                 |\n",
        "| ----------------- | ------- | ----------------- | ---------------------------------- |\n",
        "| 2022-01-19        | 0.3     | Lakshmi Holla     | Added changes in the markdown      |\n",
        "| 2021-06-25        | 0.2     | Malika            | Updated GitHub job json link       |\n",
        "| 2020-10-17        | 0.1     | Ramesh Sannareddy | Created initial version of the lab |\n"
      ]
    },
    {
      "cell_type": "markdown",
      "metadata": {
        "id": "p-x8hRet390p"
      },
      "source": [
        "Copyright © 2022 IBM Corporation. All rights reserved.\n"
      ]
    }
  ],
  "metadata": {
    "kernelspec": {
      "display_name": "Python",
      "language": "python",
      "name": "conda-env-python-py"
    },
    "language_info": {
      "codemirror_mode": {
        "name": "ipython",
        "version": 3
      },
      "file_extension": ".py",
      "mimetype": "text/x-python",
      "name": "python",
      "nbconvert_exporter": "python",
      "pygments_lexer": "ipython3",
      "version": "3.7.12"
    },
    "colab": {
      "provenance": [],
      "include_colab_link": true
    }
  },
  "nbformat": 4,
  "nbformat_minor": 0
}